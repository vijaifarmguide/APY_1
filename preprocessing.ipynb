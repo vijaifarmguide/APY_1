{
 "cells": [
  {
   "cell_type": "code",
   "execution_count": 330,
   "metadata": {},
   "outputs": [],
   "source": [
    "import pandas as pd\n",
    "# turn of warning messages\n",
    "pd.options.mode.chained_assignment = None  # default='warn'\n",
    "\n",
    "# get data\n",
    "df = pd.read_csv('APY_data_simple crops.csv')\n",
    "#df.head(5)\n",
    "\n",
    "\n",
    "#remove numbers"
   ]
  },
  {
   "cell_type": "code",
   "execution_count": 331,
   "metadata": {},
   "outputs": [],
   "source": [
    "def describe_dataframe(df=pd.DataFrame()):\n",
    "    \"\"\"This function generates descriptive stats of a dataframe\n",
    "    Args:\n",
    "        df (dataframe): the dataframe to be analyzed\n",
    "    Returns:\n",
    "        None\n",
    "\n",
    "    \"\"\"\n",
    "    print(\"\\n\\n\")\n",
    "    print(\"*\"*30)\n",
    "    print(\"About the Data\")\n",
    "    print(\"*\"*30)\n",
    "    \n",
    "    print(\"Number of rows::\",df.shape[0])\n",
    "    print(\"Number of columns::\",df.shape[1])\n",
    "    print(\"\\n\")\n",
    "    \n",
    "    print(\"Column Names::\",df.columns.values.tolist())\n",
    "    print(\"\\n\")\n",
    "    \n",
    "    print(\"Column Data Types::\\n\",df.dtypes)\n",
    "    print(\"\\n\")\n",
    "    \n",
    "    print(\"Columns with Missing Values::\",df.columns[df.isnull().any()].tolist())\n",
    "    print(\"\\n\")\n",
    "    \n",
    "    print(\"Number of rows with Missing Values::\",len(pd.isnull(df).any(1).nonzero()[0].tolist()))\n",
    "    print(\"\\n\")\n",
    "    \n",
    "    print(\"Sample Indices with missing data::\",pd.isnull(df).any(1).nonzero()[0].tolist()[0:5])\n",
    "    print(\"\\n\")\n",
    "    \n",
    "    print(\"General Stats::\")\n",
    "    print(df.info())\n",
    "    print(\"\\n\")\n",
    "    \n",
    "    print(\"Summary Stats::\")\n",
    "    print(df.describe())\n",
    "    print(\"\\n\")\n",
    "    \n",
    "    print(\"Dataframe Sample Rows::\")\n",
    "    display(df.head(5))"
   ]
  },
  {
   "cell_type": "code",
   "execution_count": 332,
   "metadata": {},
   "outputs": [
    {
     "name": "stdout",
     "output_type": "stream",
     "text": [
      "\n",
      "\n",
      "\n",
      "******************************\n",
      "About the Data\n",
      "******************************\n",
      "Number of rows:: 198619\n",
      "Number of columns:: 8\n",
      "\n",
      "\n",
      "Column Names:: ['State', 'District', 'Crop', 'Year', 'Season', 'Area (Hectare)', 'Production (Tonnes)', 'Yield (Tonnes/Hectare)']\n",
      "\n",
      "\n",
      "Column Data Types::\n",
      " State                      object\n",
      "District                   object\n",
      "Crop                       object\n",
      "Year                       object\n",
      "Season                     object\n",
      "Area (Hectare)            float64\n",
      "Production (Tonnes)       float64\n",
      "Yield (Tonnes/Hectare)    float64\n",
      "dtype: object\n",
      "\n",
      "\n",
      "Columns with Missing Values:: ['Production (Tonnes)']\n",
      "\n",
      "\n",
      "Number of rows with Missing Values:: 3014\n",
      "\n",
      "\n",
      "Sample Indices with missing data:: [570, 576, 1142, 1207, 1392]\n",
      "\n",
      "\n",
      "General Stats::\n",
      "<class 'pandas.core.frame.DataFrame'>\n",
      "RangeIndex: 198619 entries, 0 to 198618\n",
      "Data columns (total 8 columns):\n",
      "State                     198619 non-null object\n",
      "District                  198619 non-null object\n",
      "Crop                      198619 non-null object\n",
      "Year                      198619 non-null object\n",
      "Season                    198619 non-null object\n",
      "Area (Hectare)            198619 non-null float64\n",
      "Production (Tonnes)       195605 non-null float64\n",
      "Yield (Tonnes/Hectare)    198619 non-null float64\n",
      "dtypes: float64(3), object(5)\n",
      "memory usage: 12.1+ MB\n",
      "None\n",
      "\n",
      "\n",
      "Summary Stats::\n",
      "       Area (Hectare)  Production (Tonnes)  Yield (Tonnes/Hectare)\n",
      "count    1.986190e+05         1.956050e+05           198619.000000\n",
      "mean     1.379188e+04         5.331632e+04                4.149695\n",
      "std      5.325334e+04         4.152088e+05               14.380246\n",
      "min      4.000000e-02         0.000000e+00                0.000000\n",
      "25%      9.700000e+01         9.400000e+01                0.500000\n",
      "50%      7.580000e+02         7.800000e+02                0.910000\n",
      "75%      5.897000e+03         8.000000e+03                1.870000\n",
      "max      8.580100e+06         2.004970e+07             1494.000000\n",
      "\n",
      "\n",
      "Dataframe Sample Rows::\n"
     ]
    },
    {
     "data": {
      "text/html": [
       "<div>\n",
       "<style>\n",
       "    .dataframe thead tr:only-child th {\n",
       "        text-align: right;\n",
       "    }\n",
       "\n",
       "    .dataframe thead th {\n",
       "        text-align: left;\n",
       "    }\n",
       "\n",
       "    .dataframe tbody tr th {\n",
       "        vertical-align: top;\n",
       "    }\n",
       "</style>\n",
       "<table border=\"1\" class=\"dataframe\">\n",
       "  <thead>\n",
       "    <tr style=\"text-align: right;\">\n",
       "      <th></th>\n",
       "      <th>State</th>\n",
       "      <th>District</th>\n",
       "      <th>Crop</th>\n",
       "      <th>Year</th>\n",
       "      <th>Season</th>\n",
       "      <th>Area (Hectare)</th>\n",
       "      <th>Production (Tonnes)</th>\n",
       "      <th>Yield (Tonnes/Hectare)</th>\n",
       "    </tr>\n",
       "  </thead>\n",
       "  <tbody>\n",
       "    <tr>\n",
       "      <th>0</th>\n",
       "      <td>Andaman and Nicobar Islands</td>\n",
       "      <td></td>\n",
       "      <td>Arhar/Tur</td>\n",
       "      <td>2007-08</td>\n",
       "      <td>Rabi</td>\n",
       "      <td>24.0</td>\n",
       "      <td>129.0</td>\n",
       "      <td>5.35</td>\n",
       "    </tr>\n",
       "    <tr>\n",
       "      <th>1</th>\n",
       "      <td>Andaman and Nicobar Islands</td>\n",
       "      <td></td>\n",
       "      <td>Arhar/Tur</td>\n",
       "      <td>2008-09</td>\n",
       "      <td>Summer</td>\n",
       "      <td>131.0</td>\n",
       "      <td>92.0</td>\n",
       "      <td>0.70</td>\n",
       "    </tr>\n",
       "    <tr>\n",
       "      <th>2</th>\n",
       "      <td>Andaman and Nicobar Islands</td>\n",
       "      <td></td>\n",
       "      <td>Arhar/Tur</td>\n",
       "      <td>2009-10</td>\n",
       "      <td>Summer</td>\n",
       "      <td>331.0</td>\n",
       "      <td>164.0</td>\n",
       "      <td>0.50</td>\n",
       "    </tr>\n",
       "    <tr>\n",
       "      <th>3</th>\n",
       "      <td>Andaman and Nicobar Islands</td>\n",
       "      <td>2.NORTH AND MIDDLE ANDAMAN</td>\n",
       "      <td>Arhar/Tur</td>\n",
       "      <td>2010-11</td>\n",
       "      <td>Rabi</td>\n",
       "      <td>294.5</td>\n",
       "      <td>91.0</td>\n",
       "      <td>0.31</td>\n",
       "    </tr>\n",
       "    <tr>\n",
       "      <th>4</th>\n",
       "      <td>Andaman and Nicobar Islands</td>\n",
       "      <td>2.NORTH AND MIDDLE ANDAMAN</td>\n",
       "      <td>Arhar/Tur</td>\n",
       "      <td>2011-12</td>\n",
       "      <td>Rabi</td>\n",
       "      <td>210.0</td>\n",
       "      <td>63.0</td>\n",
       "      <td>0.30</td>\n",
       "    </tr>\n",
       "  </tbody>\n",
       "</table>\n",
       "</div>"
      ],
      "text/plain": [
       "                         State                     District       Crop  \\\n",
       "0  Andaman and Nicobar Islands                               Arhar/Tur   \n",
       "1  Andaman and Nicobar Islands                               Arhar/Tur   \n",
       "2  Andaman and Nicobar Islands                               Arhar/Tur   \n",
       "3  Andaman and Nicobar Islands   2.NORTH AND MIDDLE ANDAMAN  Arhar/Tur   \n",
       "4  Andaman and Nicobar Islands   2.NORTH AND MIDDLE ANDAMAN  Arhar/Tur   \n",
       "\n",
       "       Year       Season  Area (Hectare)  Production (Tonnes)  \\\n",
       "0   2007-08  Rabi                   24.0                129.0   \n",
       "1   2008-09  Summer                131.0                 92.0   \n",
       "2   2009-10  Summer                331.0                164.0   \n",
       "3   2010-11  Rabi                  294.5                 91.0   \n",
       "4   2011-12  Rabi                  210.0                 63.0   \n",
       "\n",
       "   Yield (Tonnes/Hectare)  \n",
       "0                    5.35  \n",
       "1                    0.70  \n",
       "2                    0.50  \n",
       "3                    0.31  \n",
       "4                    0.30  "
      ]
     },
     "metadata": {},
     "output_type": "display_data"
    },
    {
     "name": "stdout",
     "output_type": "stream",
     "text": [
      "Wall time: 248 ms\n"
     ]
    }
   ],
   "source": [
    "%time describe_dataframe(df)"
   ]
  },
  {
   "cell_type": "code",
   "execution_count": 333,
   "metadata": {},
   "outputs": [],
   "source": [
    "df1=df[df.District!=\" \"]\n",
    "df1['District']=df1['District'].str.replace('[^a-zA-Z ]', '')"
   ]
  },
  {
   "cell_type": "code",
   "execution_count": 334,
   "metadata": {},
   "outputs": [
    {
     "data": {
      "text/plain": [
       "State                       0\n",
       "District                    0\n",
       "Crop                        0\n",
       "Year                        0\n",
       "Season                      0\n",
       "Area (Hectare)              0\n",
       "Production (Tonnes)       425\n",
       "Yield (Tonnes/Hectare)      0\n",
       "dtype: int64"
      ]
     },
     "execution_count": 334,
     "metadata": {},
     "output_type": "execute_result"
    }
   ],
   "source": [
    "df1[df1.State==\"Rajasthan\"].isnull().sum()\n",
    "#Null values means Yield is zero"
   ]
  },
  {
   "cell_type": "code",
   "execution_count": 335,
   "metadata": {},
   "outputs": [
    {
     "data": {
      "text/plain": [
       "(425, 8)"
      ]
     },
     "execution_count": 335,
     "metadata": {},
     "output_type": "execute_result"
    }
   ],
   "source": [
    "df1[(df1.State==\"Rajasthan\") & (df1['Production (Tonnes)'].isnull())].shape"
   ]
  },
  {
   "cell_type": "code",
   "execution_count": 336,
   "metadata": {},
   "outputs": [],
   "source": [
    "#df1[(df1.State==\"Rajasthan\") & (df1['Production (Tonnes)'].isnull())].shape"
   ]
  },
  {
   "cell_type": "code",
   "execution_count": 337,
   "metadata": {},
   "outputs": [],
   "source": [
    "#df1[(df1.State==\"Rajasthan\") & (df1['Production (Tonnes)'].notnull()) & (df1['Yield (Tonnes/Hectare)']==0)]"
   ]
  },
  {
   "cell_type": "code",
   "execution_count": 338,
   "metadata": {},
   "outputs": [
    {
     "data": {
      "text/plain": [
       "(3014, 8)"
      ]
     },
     "execution_count": 338,
     "metadata": {},
     "output_type": "execute_result"
    }
   ],
   "source": [
    "df1[df1['Production (Tonnes)'].isnull()].shape"
   ]
  },
  {
   "cell_type": "code",
   "execution_count": 339,
   "metadata": {},
   "outputs": [],
   "source": [
    "#Yield =0 ie , Production = 0\n",
    "df1[df1['Production (Tonnes)'].isnull()]=0"
   ]
  },
  {
   "cell_type": "code",
   "execution_count": 340,
   "metadata": {},
   "outputs": [
    {
     "data": {
      "text/plain": [
       "194168"
      ]
     },
     "execution_count": 340,
     "metadata": {},
     "output_type": "execute_result"
    }
   ],
   "source": [
    "df1[(df1['Yield (Tonnes/Hectare)']!=0) & (df1['Production (Tonnes)']==0)].shape[0]  #297\n",
    "df1[(df1['Yield (Tonnes/Hectare)']==0) & (df1['Production (Tonnes)']!=0)].shape[0]  #65\n",
    "df1[(df1['Yield (Tonnes/Hectare)']==0) & (df1['Production (Tonnes)']==0)].shape[0]  #3867 \n",
    "\n",
    "#useful values\n",
    "df1[(df1['Yield (Tonnes/Hectare)']!=0) & (df1['Production (Tonnes)']!=0)].shape[0]  #194168"
   ]
  },
  {
   "cell_type": "code",
   "execution_count": 341,
   "metadata": {},
   "outputs": [],
   "source": [
    "df1=df1[df1['Season']!=0]"
   ]
  },
  {
   "cell_type": "code",
   "execution_count": 342,
   "metadata": {},
   "outputs": [
    {
     "name": "stdout",
     "output_type": "stream",
     "text": [
      "Kharif         87932\n",
      "Rabi           58088\n",
      "Whole Year     24998\n",
      "Summer         13972\n",
      "Winter          5627\n",
      "Autumn          4766\n",
      "Name: Season, dtype: int64\n"
     ]
    }
   ],
   "source": [
    "print(df1['Season'].value_counts())\n",
    "#print(df['Year'].value_counts())"
   ]
  },
  {
   "cell_type": "code",
   "execution_count": 343,
   "metadata": {},
   "outputs": [],
   "source": [
    "#take data for 2005-2015 data \n",
    "a=df['Year'].value_counts().index\n",
    "a=sorted(a)"
   ]
  },
  {
   "cell_type": "code",
   "execution_count": 344,
   "metadata": {},
   "outputs": [
    {
     "data": {
      "text/plain": [
       "Index(['State', 'District', 'Crop', 'Year', 'Season', 'Area (Hectare)',\n",
       "       'Production (Tonnes)', 'Yield (Tonnes/Hectare)'],\n",
       "      dtype='object')"
      ]
     },
     "execution_count": 344,
     "metadata": {},
     "output_type": "execute_result"
    }
   ],
   "source": [
    "df1.columns"
   ]
  },
  {
   "cell_type": "code",
   "execution_count": 317,
   "metadata": {},
   "outputs": [],
   "source": [
    "yearlist=[' 2005-06', ' 2006-07', ' 2007-08', ' 2008-09', ' 2009-10', ' 2010-11', ' 2011-12', ' 2012-13', ' 2013-14', ' 2014-15']\n"
   ]
  },
  {
   "cell_type": "code",
   "execution_count": 318,
   "metadata": {},
   "outputs": [],
   "source": [
    "#df1.groupby(['State','District','Season','Crop'])['Year'].count()"
   ]
  },
  {
   "cell_type": "code",
   "execution_count": 319,
   "metadata": {},
   "outputs": [],
   "source": [
    "#df1[df1.groupby(['State','District','Season','Crop'])['Year']==yearlist]"
   ]
  },
  {
   "cell_type": "code",
   "execution_count": 320,
   "metadata": {},
   "outputs": [],
   "source": [
    "#d2=df1[(df1['Year']==' 2010-11') & (df1['Season']=='Kharif     ') & (df1.State==\"Rajasthan\") ].groupby(['State','District','Crop'],sort=False)['Area (Hectare)'].sum()\n",
    "#d2.sort_index(ascending=False)"
   ]
  },
  {
   "cell_type": "code",
   "execution_count": 362,
   "metadata": {},
   "outputs": [],
   "source": [
    "df2=df1[(df1['Year']==' 2010-11') & (df1['Season']=='Kharif     ') & (df1.State==\"Rajasthan\")].sort_values(['District', 'Area (Hectare)'], ascending=[True, False])"
   ]
  },
  {
   "cell_type": "code",
   "execution_count": 363,
   "metadata": {},
   "outputs": [],
   "source": [
    "df3=df2[['District', 'Crop', 'Area (Hectare)']]"
   ]
  },
  {
   "cell_type": "code",
   "execution_count": 364,
   "metadata": {},
   "outputs": [
    {
     "data": {
      "text/plain": [
       "Index(['District', 'Crop', 'Area (Hectare)'], dtype='object')"
      ]
     },
     "execution_count": 364,
     "metadata": {},
     "output_type": "execute_result"
    }
   ],
   "source": [
    "df3.columns"
   ]
  },
  {
   "cell_type": "code",
   "execution_count": null,
   "metadata": {},
   "outputs": [],
   "source": []
  },
  {
   "cell_type": "code",
   "execution_count": 377,
   "metadata": {},
   "outputs": [
    {
     "data": {
      "text/html": [
       "<div>\n",
       "<style>\n",
       "    .dataframe thead tr:only-child th {\n",
       "        text-align: right;\n",
       "    }\n",
       "\n",
       "    .dataframe thead th {\n",
       "        text-align: left;\n",
       "    }\n",
       "\n",
       "    .dataframe tbody tr th {\n",
       "        vertical-align: top;\n",
       "    }\n",
       "</style>\n",
       "<table border=\"1\" class=\"dataframe\">\n",
       "  <thead>\n",
       "    <tr style=\"text-align: right;\">\n",
       "      <th></th>\n",
       "      <th>District</th>\n",
       "      <th>Crop</th>\n",
       "      <th>Area (Hectare)</th>\n",
       "    </tr>\n",
       "  </thead>\n",
       "  <tbody>\n",
       "    <tr>\n",
       "      <th>137223</th>\n",
       "      <td>AJMER</td>\n",
       "      <td>Jowar</td>\n",
       "      <td>160379.0</td>\n",
       "    </tr>\n",
       "    <tr>\n",
       "      <th>133791</th>\n",
       "      <td>AJMER</td>\n",
       "      <td>Bajra</td>\n",
       "      <td>94322.0</td>\n",
       "    </tr>\n",
       "    <tr>\n",
       "      <th>139091</th>\n",
       "      <td>AJMER</td>\n",
       "      <td>Moong(Green Gram)</td>\n",
       "      <td>83408.0</td>\n",
       "    </tr>\n",
       "    <tr>\n",
       "      <th>138204</th>\n",
       "      <td>AJMER</td>\n",
       "      <td>Maize</td>\n",
       "      <td>35419.0</td>\n",
       "    </tr>\n",
       "    <tr>\n",
       "      <th>143006</th>\n",
       "      <td>AJMER</td>\n",
       "      <td>Sesamum</td>\n",
       "      <td>21321.0</td>\n",
       "    </tr>\n",
       "    <tr>\n",
       "      <th>145379</th>\n",
       "      <td>AJMER</td>\n",
       "      <td>Urad</td>\n",
       "      <td>8860.0</td>\n",
       "    </tr>\n",
       "    <tr>\n",
       "      <th>136094</th>\n",
       "      <td>AJMER</td>\n",
       "      <td>Groundnut</td>\n",
       "      <td>2030.0</td>\n",
       "    </tr>\n",
       "    <tr>\n",
       "      <th>140425</th>\n",
       "      <td>AJMER</td>\n",
       "      <td>Other Kharif pulses</td>\n",
       "      <td>1599.0</td>\n",
       "    </tr>\n",
       "    <tr>\n",
       "      <th>139675</th>\n",
       "      <td>AJMER</td>\n",
       "      <td>Moth</td>\n",
       "      <td>1476.0</td>\n",
       "    </tr>\n",
       "    <tr>\n",
       "      <th>143610</th>\n",
       "      <td>AJMER</td>\n",
       "      <td>Small millets</td>\n",
       "      <td>190.0</td>\n",
       "    </tr>\n",
       "  </tbody>\n",
       "</table>\n",
       "</div>"
      ],
      "text/plain": [
       "       District                 Crop  Area (Hectare)\n",
       "137223    AJMER                Jowar        160379.0\n",
       "133791    AJMER                Bajra         94322.0\n",
       "139091    AJMER    Moong(Green Gram)         83408.0\n",
       "138204    AJMER                Maize         35419.0\n",
       "143006    AJMER              Sesamum         21321.0\n",
       "145379    AJMER                 Urad          8860.0\n",
       "136094    AJMER            Groundnut          2030.0\n",
       "140425    AJMER  Other Kharif pulses          1599.0\n",
       "139675    AJMER                 Moth          1476.0\n",
       "143610    AJMER        Small millets           190.0"
      ]
     },
     "execution_count": 377,
     "metadata": {},
     "output_type": "execute_result"
    }
   ],
   "source": [
    "df3.head(10)"
   ]
  },
  {
   "cell_type": "code",
   "execution_count": 378,
   "metadata": {},
   "outputs": [
    {
     "data": {
      "text/plain": [
       "366"
      ]
     },
     "execution_count": 378,
     "metadata": {},
     "output_type": "execute_result"
    }
   ],
   "source": [
    "#df1.to_csv(\"sort1.csv\")\n",
    "df3.shape[0]"
   ]
  },
  {
   "cell_type": "code",
   "execution_count": null,
   "metadata": {},
   "outputs": [],
   "source": [
    "for i in df3.shape[0]:\n",
    "    if(i!=0):\n",
    "         if(df3.iloc[i,0]==df3.iloc[i-1,0])\n",
    "            \n",
    "    df3.iloc[]\n",
    "    "
   ]
  },
  {
   "cell_type": "code",
   "execution_count": 381,
   "metadata": {},
   "outputs": [
    {
     "data": {
      "text/plain": [
       "' AJMER'"
      ]
     },
     "execution_count": 381,
     "metadata": {},
     "output_type": "execute_result"
    }
   ],
   "source": [
    "df3.iloc[1,0]"
   ]
  },
  {
   "cell_type": "code",
   "execution_count": null,
   "metadata": {},
   "outputs": [],
   "source": []
  }
 ],
 "metadata": {
  "kernelspec": {
   "display_name": "Python 3",
   "language": "python",
   "name": "python3"
  },
  "language_info": {
   "codemirror_mode": {
    "name": "ipython",
    "version": 3
   },
   "file_extension": ".py",
   "mimetype": "text/x-python",
   "name": "python",
   "nbconvert_exporter": "python",
   "pygments_lexer": "ipython3",
   "version": "3.6.3"
  }
 },
 "nbformat": 4,
 "nbformat_minor": 2
}
