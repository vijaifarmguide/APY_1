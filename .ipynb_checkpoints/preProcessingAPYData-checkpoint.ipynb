{
 "cells": [
  {
   "cell_type": "code",
   "execution_count": 48,
   "metadata": {},
   "outputs": [],
   "source": [
    "import pandas as pd\n",
    "import seaborn as sns\n",
    "%matplotlib inline\n",
    "# turn of warning messages\n",
    "pd.options.mode.chained_assignment = None  # default='warn'\n",
    "\n",
    "# get data\n",
    "df = pd.read_csv('APY_data_simple crops.csv')\n",
    "#df.head(5)\n"
   ]
  },
  {
   "cell_type": "code",
   "execution_count": 49,
   "metadata": {},
   "outputs": [],
   "source": [
    "def describe_dataframe(df=pd.DataFrame()):\n",
    "    \"\"\"This function generates descriptive stats of a dataframe\n",
    "    Args:\n",
    "        df (dataframe): the dataframe to be analyzed\n",
    "    Returns:\n",
    "        None\n",
    "\n",
    "    \"\"\"\n",
    "    print(\"\\n\\n\")\n",
    "    print(\"*\"*30)\n",
    "    print(\"About the Data\")\n",
    "    print(\"*\"*30)\n",
    "    \n",
    "    print(\"Number of rows::\",df.shape[0])\n",
    "    print(\"Number of columns::\",df.shape[1])\n",
    "    print(\"\\n\")\n",
    "    \n",
    "    print(\"Column Names::\",df.columns.values.tolist())\n",
    "    print(\"\\n\")\n",
    "    \n",
    "    print(\"Column Data Types::\\n\",df.dtypes)\n",
    "    print(\"\\n\")\n",
    "    \n",
    "    print(\"Columns with Missing Values::\",df.columns[df.isnull().any()].tolist())\n",
    "    print(\"\\n\")\n",
    "    \n",
    "    print(\"Number of rows with Missing Values::\",len(pd.isnull(df).any(1).nonzero()[0].tolist()))\n",
    "    print(\"\\n\")\n",
    "    \n",
    "    print(\"Sample Indices with missing data::\",pd.isnull(df).any(1).nonzero()[0].tolist()[0:5])\n",
    "    print(\"\\n\")\n",
    "    \n",
    "    print(\"General Stats::\")\n",
    "    print(df.info())\n",
    "    print(\"\\n\")\n",
    "    \n",
    "    print(\"Summary Stats::\")\n",
    "    print(df.describe())\n",
    "    print(\"\\n\")\n",
    "    \n",
    "    print(\"Dataframe Sample Rows::\")\n",
    "    display(df.head(5))"
   ]
  },
  {
   "cell_type": "code",
   "execution_count": 50,
   "metadata": {},
   "outputs": [
    {
     "name": "stdout",
     "output_type": "stream",
     "text": [
      "\n",
      "\n",
      "\n",
      "******************************\n",
      "About the Data\n",
      "******************************\n",
      "Number of rows:: 195383\n",
      "Number of columns:: 8\n",
      "\n",
      "\n",
      "Column Names:: ['State', 'District', 'Crop', 'Year', 'Season', 'Area (Hectare)', 'Production (Tonnes)', 'Yield (Tonnes/Hectare)']\n",
      "\n",
      "\n",
      "Column Data Types::\n",
      " State                      object\n",
      "District                   object\n",
      "Crop                       object\n",
      "Year                        int64\n",
      "Season                     object\n",
      "Area (Hectare)            float64\n",
      "Production (Tonnes)       float64\n",
      "Yield (Tonnes/Hectare)    float64\n",
      "dtype: object\n",
      "\n",
      "\n",
      "Columns with Missing Values:: []\n",
      "\n",
      "\n",
      "Number of rows with Missing Values:: 0\n",
      "\n",
      "\n",
      "Sample Indices with missing data:: []\n",
      "\n",
      "\n",
      "General Stats::\n",
      "<class 'pandas.core.frame.DataFrame'>\n",
      "RangeIndex: 195383 entries, 0 to 195382\n",
      "Data columns (total 8 columns):\n",
      "State                     195383 non-null object\n",
      "District                  195383 non-null object\n",
      "Crop                      195383 non-null object\n",
      "Year                      195383 non-null int64\n",
      "Season                    195383 non-null object\n",
      "Area (Hectare)            195383 non-null float64\n",
      "Production (Tonnes)       195383 non-null float64\n",
      "Yield (Tonnes/Hectare)    195383 non-null float64\n",
      "dtypes: float64(3), int64(1), object(4)\n",
      "memory usage: 11.9+ MB\n",
      "None\n",
      "\n",
      "\n",
      "Summary Stats::\n",
      "                Year  Area (Hectare)  Production (Tonnes)  \\\n",
      "count  195383.000000    1.953830e+05         1.953830e+05   \n",
      "mean     2006.077791    1.399179e+04         5.336310e+04   \n",
      "std         5.263865    5.362711e+04         4.154413e+05   \n",
      "min      1997.000000    1.000000e-01         0.000000e+00   \n",
      "25%      2002.000000    1.000000e+02         9.400000e+01   \n",
      "50%      2006.000000    8.000000e+02         7.800000e+02   \n",
      "75%      2011.000000    6.050500e+03         8.000000e+03   \n",
      "max      2015.000000    8.580100e+06         2.004970e+07   \n",
      "\n",
      "       Yield (Tonnes/Hectare)  \n",
      "count           195383.000000  \n",
      "mean                 4.210519  \n",
      "std                 14.479376  \n",
      "min                  0.000000  \n",
      "25%                  0.500000  \n",
      "50%                  0.930000  \n",
      "75%                  1.900000  \n",
      "max               1494.000000  \n",
      "\n",
      "\n",
      "Dataframe Sample Rows::\n"
     ]
    },
    {
     "data": {
      "text/html": [
       "<div>\n",
       "<style>\n",
       "    .dataframe thead tr:only-child th {\n",
       "        text-align: right;\n",
       "    }\n",
       "\n",
       "    .dataframe thead th {\n",
       "        text-align: left;\n",
       "    }\n",
       "\n",
       "    .dataframe tbody tr th {\n",
       "        vertical-align: top;\n",
       "    }\n",
       "</style>\n",
       "<table border=\"1\" class=\"dataframe\">\n",
       "  <thead>\n",
       "    <tr style=\"text-align: right;\">\n",
       "      <th></th>\n",
       "      <th>State</th>\n",
       "      <th>District</th>\n",
       "      <th>Crop</th>\n",
       "      <th>Year</th>\n",
       "      <th>Season</th>\n",
       "      <th>Area (Hectare)</th>\n",
       "      <th>Production (Tonnes)</th>\n",
       "      <th>Yield (Tonnes/Hectare)</th>\n",
       "    </tr>\n",
       "  </thead>\n",
       "  <tbody>\n",
       "    <tr>\n",
       "      <th>0</th>\n",
       "      <td>Andaman and Nicobar Islands</td>\n",
       "      <td>North And Middle Andaman</td>\n",
       "      <td>Arhar/Tur</td>\n",
       "      <td>2010</td>\n",
       "      <td>Rabi</td>\n",
       "      <td>294.5</td>\n",
       "      <td>91.0</td>\n",
       "      <td>0.31</td>\n",
       "    </tr>\n",
       "    <tr>\n",
       "      <th>1</th>\n",
       "      <td>Andaman and Nicobar Islands</td>\n",
       "      <td>North And Middle Andaman</td>\n",
       "      <td>Arhar/Tur</td>\n",
       "      <td>2011</td>\n",
       "      <td>Rabi</td>\n",
       "      <td>210.0</td>\n",
       "      <td>63.0</td>\n",
       "      <td>0.30</td>\n",
       "    </tr>\n",
       "    <tr>\n",
       "      <th>2</th>\n",
       "      <td>Andaman and Nicobar Islands</td>\n",
       "      <td>North And Middle Andaman</td>\n",
       "      <td>Arhar/Tur</td>\n",
       "      <td>2012</td>\n",
       "      <td>Rabi</td>\n",
       "      <td>52.5</td>\n",
       "      <td>15.0</td>\n",
       "      <td>0.29</td>\n",
       "    </tr>\n",
       "    <tr>\n",
       "      <th>3</th>\n",
       "      <td>Andaman and Nicobar Islands</td>\n",
       "      <td>North And Middle Andaman</td>\n",
       "      <td>Arhar/Tur</td>\n",
       "      <td>2013</td>\n",
       "      <td>Rabi</td>\n",
       "      <td>1.0</td>\n",
       "      <td>3.0</td>\n",
       "      <td>3.00</td>\n",
       "    </tr>\n",
       "    <tr>\n",
       "      <th>4</th>\n",
       "      <td>Andaman and Nicobar Islands</td>\n",
       "      <td>North And Middle Andaman</td>\n",
       "      <td>Arhar/Tur</td>\n",
       "      <td>2014</td>\n",
       "      <td>Rabi</td>\n",
       "      <td>13.9</td>\n",
       "      <td>14.0</td>\n",
       "      <td>0.99</td>\n",
       "    </tr>\n",
       "  </tbody>\n",
       "</table>\n",
       "</div>"
      ],
      "text/plain": [
       "                         State                  District       Crop  Year  \\\n",
       "0  Andaman and Nicobar Islands  North And Middle Andaman  Arhar/Tur  2010   \n",
       "1  Andaman and Nicobar Islands  North And Middle Andaman  Arhar/Tur  2011   \n",
       "2  Andaman and Nicobar Islands  North And Middle Andaman  Arhar/Tur  2012   \n",
       "3  Andaman and Nicobar Islands  North And Middle Andaman  Arhar/Tur  2013   \n",
       "4  Andaman and Nicobar Islands  North And Middle Andaman  Arhar/Tur  2014   \n",
       "\n",
       "  Season  Area (Hectare)  Production (Tonnes)  Yield (Tonnes/Hectare)  \n",
       "0   Rabi           294.5                 91.0                    0.31  \n",
       "1   Rabi           210.0                 63.0                    0.30  \n",
       "2   Rabi            52.5                 15.0                    0.29  \n",
       "3   Rabi             1.0                  3.0                    3.00  \n",
       "4   Rabi            13.9                 14.0                    0.99  "
      ]
     },
     "metadata": {},
     "output_type": "display_data"
    },
    {
     "name": "stdout",
     "output_type": "stream",
     "text": [
      "CPU times: user 335 ms, sys: 24.6 ms, total: 359 ms\n",
      "Wall time: 357 ms\n"
     ]
    }
   ],
   "source": [
    "%time describe_dataframe(df)"
   ]
  },
  {
   "cell_type": "code",
   "execution_count": 31,
   "metadata": {},
   "outputs": [],
   "source": [
    "#remove numbers\n",
    "df1=df[df.District!=\" \"]\n",
    "df1['District']=df1['District'].str.replace('[^a-zA-Z ]', '')"
   ]
  },
  {
   "cell_type": "code",
   "execution_count": 32,
   "metadata": {},
   "outputs": [],
   "source": [
    "#Yield =0 ie , Production = 0\n",
    "df1[df1['Production (Tonnes)'].isnull()]=0"
   ]
  },
  {
   "cell_type": "code",
   "execution_count": 33,
   "metadata": {},
   "outputs": [],
   "source": [
    "df1=df1[df1['Season']!=0]"
   ]
  },
  {
   "cell_type": "code",
   "execution_count": 35,
   "metadata": {},
   "outputs": [
    {
     "data": {
      "text/plain": [
       "Index(['State', 'District', 'Crop', 'Year', 'Season', 'Area (Hectare)',\n",
       "       'Production (Tonnes)', 'Yield (Tonnes/Hectare)'],\n",
       "      dtype='object')"
      ]
     },
     "execution_count": 35,
     "metadata": {},
     "output_type": "execute_result"
    }
   ],
   "source": [
    "df.columns"
   ]
  },
  {
   "cell_type": "code",
   "execution_count": 36,
   "metadata": {},
   "outputs": [],
   "source": [
    "#2010-11  --> 2010\n",
    "df1.iloc[:,3]=df.iloc[:,3].str.split('-').str.get(0)"
   ]
  },
  {
   "cell_type": "code",
   "execution_count": 37,
   "metadata": {},
   "outputs": [],
   "source": [
    "# capitalize the first letter of each word  of District\n",
    "df1.iloc[:,1]=df1.iloc[:,1].str.lower().str.title()"
   ]
  },
  {
   "cell_type": "code",
   "execution_count": 38,
   "metadata": {},
   "outputs": [
    {
     "data": {
      "text/html": [
       "<div>\n",
       "<style>\n",
       "    .dataframe thead tr:only-child th {\n",
       "        text-align: right;\n",
       "    }\n",
       "\n",
       "    .dataframe thead th {\n",
       "        text-align: left;\n",
       "    }\n",
       "\n",
       "    .dataframe tbody tr th {\n",
       "        vertical-align: top;\n",
       "    }\n",
       "</style>\n",
       "<table border=\"1\" class=\"dataframe\">\n",
       "  <thead>\n",
       "    <tr style=\"text-align: right;\">\n",
       "      <th></th>\n",
       "      <th>State</th>\n",
       "      <th>District</th>\n",
       "      <th>Crop</th>\n",
       "      <th>Year</th>\n",
       "      <th>Season</th>\n",
       "      <th>Area (Hectare)</th>\n",
       "      <th>Production (Tonnes)</th>\n",
       "      <th>Yield (Tonnes/Hectare)</th>\n",
       "    </tr>\n",
       "  </thead>\n",
       "  <tbody>\n",
       "    <tr>\n",
       "      <th>190745</th>\n",
       "      <td>Uttarakhand</td>\n",
       "      <td>Tehri Garhwal</td>\n",
       "      <td>Urad</td>\n",
       "      <td>2007</td>\n",
       "      <td>Kharif</td>\n",
       "      <td>1599.0</td>\n",
       "      <td>1548.0</td>\n",
       "      <td>0.97</td>\n",
       "    </tr>\n",
       "  </tbody>\n",
       "</table>\n",
       "</div>"
      ],
      "text/plain": [
       "              State        District  Crop   Year       Season  Area (Hectare)  \\\n",
       "190745  Uttarakhand   Tehri Garhwal  Urad   2007  Kharif               1599.0   \n",
       "\n",
       "        Production (Tonnes)  Yield (Tonnes/Hectare)  \n",
       "190745               1548.0                    0.97  "
      ]
     },
     "execution_count": 38,
     "metadata": {},
     "output_type": "execute_result"
    }
   ],
   "source": [
    "df1.sample()"
   ]
  },
  {
   "cell_type": "code",
   "execution_count": 39,
   "metadata": {},
   "outputs": [],
   "source": [
    "#strip the spaces from text fields\n",
    "df1['State'] = df1['State'].str.strip()\n",
    "df1['District'] = df1['District'].str.strip()\n",
    "df1['Crop'] = df1['Crop'].str.strip()\n",
    "df1['Year'] = df1['Year'].str.strip()\n",
    "df1['Season'] = df1['Season'].str.strip()"
   ]
  },
  {
   "cell_type": "code",
   "execution_count": 44,
   "metadata": {},
   "outputs": [
    {
     "name": "stdout",
     "output_type": "stream",
     "text": [
      "<class 'pandas.core.frame.DataFrame'>\n",
      "Int64Index: 195383 entries, 3 to 198618\n",
      "Data columns (total 8 columns):\n",
      "State                     195383 non-null object\n",
      "District                  195383 non-null object\n",
      "Crop                      195383 non-null object\n",
      "Year                      195383 non-null object\n",
      "Season                    195383 non-null object\n",
      "Area (Hectare)            195383 non-null float64\n",
      "Production (Tonnes)       195383 non-null float64\n",
      "Yield (Tonnes/Hectare)    195383 non-null float64\n",
      "dtypes: float64(3), object(5)\n",
      "memory usage: 13.4+ MB\n"
     ]
    }
   ],
   "source": [
    "df1.info()"
   ]
  },
  {
   "cell_type": "code",
   "execution_count": 47,
   "metadata": {},
   "outputs": [],
   "source": [
    "df1.Year=df1.Year.astype('int')\n",
    "df1.to_csv('test.csv', index=False)"
   ]
  }
 ],
 "metadata": {
  "kernelspec": {
   "display_name": "Python 3",
   "language": "python",
   "name": "python3"
  },
  "language_info": {
   "codemirror_mode": {
    "name": "ipython",
    "version": 3
   },
   "file_extension": ".py",
   "mimetype": "text/x-python",
   "name": "python",
   "nbconvert_exporter": "python",
   "pygments_lexer": "ipython3",
   "version": "3.6.1"
  }
 },
 "nbformat": 4,
 "nbformat_minor": 2
}
